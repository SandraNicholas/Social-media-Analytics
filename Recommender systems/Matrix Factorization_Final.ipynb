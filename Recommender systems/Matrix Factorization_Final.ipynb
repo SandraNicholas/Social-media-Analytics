{
 "cells": [
  {
   "cell_type": "code",
   "execution_count": 1,
   "metadata": {},
   "outputs": [],
   "source": [
    "import numpy as np\n",
    "import pandas as pd \n",
    "from collections import Counter\n",
    "from sklearn.model_selection import train_test_split\n",
    "from scipy import sparse"
   ]
  },
  {
   "attachments": {},
   "cell_type": "markdown",
   "metadata": {},
   "source": [
    "Loading Dataset"
   ]
  },
  {
   "cell_type": "code",
   "execution_count": 2,
   "metadata": {},
   "outputs": [],
   "source": [
    "ratings_df = pd.read_csv(\"C:/Users/ACER/Documents/Social Media Project/rating_data.data\",sep='\\t',names=[\"user_id\",\"item_id\",\"rating\",\"timestamp\"])"
   ]
  },
  {
   "cell_type": "code",
   "execution_count": 3,
   "metadata": {},
   "outputs": [
    {
     "data": {
      "text/plain": [
       "user_id      0\n",
       "item_id      0\n",
       "rating       0\n",
       "timestamp    0\n",
       "dtype: int64"
      ]
     },
     "execution_count": 3,
     "metadata": {},
     "output_type": "execute_result"
    }
   ],
   "source": [
    "ratings_df.isnull().sum()"
   ]
  },
  {
   "cell_type": "code",
   "execution_count": 4,
   "metadata": {},
   "outputs": [
    {
     "data": {
      "text/plain": [
       "(100000, 4)"
      ]
     },
     "execution_count": 4,
     "metadata": {},
     "output_type": "execute_result"
    }
   ],
   "source": [
    "ratings_df.shape"
   ]
  },
  {
   "cell_type": "code",
   "execution_count": 5,
   "metadata": {},
   "outputs": [
    {
     "name": "stdout",
     "output_type": "stream",
     "text": [
      "<class 'pandas.core.frame.DataFrame'>\n",
      "RangeIndex: 100000 entries, 0 to 99999\n",
      "Data columns (total 4 columns):\n",
      " #   Column     Non-Null Count   Dtype\n",
      "---  ------     --------------   -----\n",
      " 0   user_id    100000 non-null  int64\n",
      " 1   item_id    100000 non-null  int64\n",
      " 2   rating     100000 non-null  int64\n",
      " 3   timestamp  100000 non-null  int64\n",
      "dtypes: int64(4)\n",
      "memory usage: 3.1 MB\n"
     ]
    }
   ],
   "source": [
    "ratings_df.info()"
   ]
  },
  {
   "cell_type": "code",
   "execution_count": 6,
   "metadata": {},
   "outputs": [
    {
     "data": {
      "text/html": [
       "<div>\n",
       "<style scoped>\n",
       "    .dataframe tbody tr th:only-of-type {\n",
       "        vertical-align: middle;\n",
       "    }\n",
       "\n",
       "    .dataframe tbody tr th {\n",
       "        vertical-align: top;\n",
       "    }\n",
       "\n",
       "    .dataframe thead th {\n",
       "        text-align: right;\n",
       "    }\n",
       "</style>\n",
       "<table border=\"1\" class=\"dataframe\">\n",
       "  <thead>\n",
       "    <tr style=\"text-align: right;\">\n",
       "      <th></th>\n",
       "      <th>user_id</th>\n",
       "      <th>item_id</th>\n",
       "      <th>rating</th>\n",
       "      <th>timestamp</th>\n",
       "    </tr>\n",
       "  </thead>\n",
       "  <tbody>\n",
       "    <tr>\n",
       "      <th>count</th>\n",
       "      <td>100000.00000</td>\n",
       "      <td>100000.000000</td>\n",
       "      <td>100000.000000</td>\n",
       "      <td>1.000000e+05</td>\n",
       "    </tr>\n",
       "    <tr>\n",
       "      <th>mean</th>\n",
       "      <td>462.48475</td>\n",
       "      <td>425.530130</td>\n",
       "      <td>3.529860</td>\n",
       "      <td>8.835289e+08</td>\n",
       "    </tr>\n",
       "    <tr>\n",
       "      <th>std</th>\n",
       "      <td>266.61442</td>\n",
       "      <td>330.798356</td>\n",
       "      <td>1.125674</td>\n",
       "      <td>5.343856e+06</td>\n",
       "    </tr>\n",
       "    <tr>\n",
       "      <th>min</th>\n",
       "      <td>1.00000</td>\n",
       "      <td>1.000000</td>\n",
       "      <td>1.000000</td>\n",
       "      <td>8.747247e+08</td>\n",
       "    </tr>\n",
       "    <tr>\n",
       "      <th>25%</th>\n",
       "      <td>254.00000</td>\n",
       "      <td>175.000000</td>\n",
       "      <td>3.000000</td>\n",
       "      <td>8.794487e+08</td>\n",
       "    </tr>\n",
       "    <tr>\n",
       "      <th>50%</th>\n",
       "      <td>447.00000</td>\n",
       "      <td>322.000000</td>\n",
       "      <td>4.000000</td>\n",
       "      <td>8.828269e+08</td>\n",
       "    </tr>\n",
       "    <tr>\n",
       "      <th>75%</th>\n",
       "      <td>682.00000</td>\n",
       "      <td>631.000000</td>\n",
       "      <td>4.000000</td>\n",
       "      <td>8.882600e+08</td>\n",
       "    </tr>\n",
       "    <tr>\n",
       "      <th>max</th>\n",
       "      <td>943.00000</td>\n",
       "      <td>1682.000000</td>\n",
       "      <td>5.000000</td>\n",
       "      <td>8.932866e+08</td>\n",
       "    </tr>\n",
       "  </tbody>\n",
       "</table>\n",
       "</div>"
      ],
      "text/plain": [
       "            user_id        item_id         rating     timestamp\n",
       "count  100000.00000  100000.000000  100000.000000  1.000000e+05\n",
       "mean      462.48475     425.530130       3.529860  8.835289e+08\n",
       "std       266.61442     330.798356       1.125674  5.343856e+06\n",
       "min         1.00000       1.000000       1.000000  8.747247e+08\n",
       "25%       254.00000     175.000000       3.000000  8.794487e+08\n",
       "50%       447.00000     322.000000       4.000000  8.828269e+08\n",
       "75%       682.00000     631.000000       4.000000  8.882600e+08\n",
       "max       943.00000    1682.000000       5.000000  8.932866e+08"
      ]
     },
     "execution_count": 6,
     "metadata": {},
     "output_type": "execute_result"
    }
   ],
   "source": [
    "ratings_df.describe()"
   ]
  },
  {
   "cell_type": "code",
   "execution_count": 7,
   "metadata": {},
   "outputs": [
    {
     "name": "stdout",
     "output_type": "stream",
     "text": [
      "(100000, 3)\n"
     ]
    }
   ],
   "source": [
    "ratings_df = ratings_df.reset_index()[['user_id','item_id','rating']]\n",
    "print(ratings_df.shape)"
   ]
  },
  {
   "cell_type": "markdown",
   "metadata": {},
   "source": [
    "Distribution of ratings"
   ]
  },
  {
   "cell_type": "code",
   "execution_count": 8,
   "metadata": {},
   "outputs": [],
   "source": [
    "import matplotlib.pyplot as plt"
   ]
  },
  {
   "cell_type": "code",
   "execution_count": 9,
   "metadata": {},
   "outputs": [],
   "source": [
    "dictrat=Counter(ratings_df.rating)"
   ]
  },
  {
   "cell_type": "code",
   "execution_count": 40,
   "metadata": {},
   "outputs": [
    {
     "data": {
      "text/plain": [
       "<BarContainer object of 5 artists>"
      ]
     },
     "execution_count": 40,
     "metadata": {},
     "output_type": "execute_result"
    },
    {
     "data": {
      "image/png": "[encoded data removed]",
      "text/plain": [
       "<Figure size 640x480 with 1 Axes>"
      ]
     },
     "metadata": {},
     "output_type": "display_data"
    }
   ],
   "source": [
    "plt.title(\"Rating analysis\")\n",
    "plt.ylabel(\"No.of users\")\n",
    "plt.xlabel(\"Rating\")\n",
    "plt.bar(dictrat.keys(),dictrat.values())"
   ]
  },
  {
   "cell_type": "code",
   "execution_count": null,
   "metadata": {},
   "outputs": [],
   "source": []
  },
  {
   "cell_type": "markdown",
   "metadata": {},
   "source": [
    "Number of ratings per user"
   ]
  },
  {
   "cell_type": "code",
   "execution_count": 78,
   "metadata": {},
   "outputs": [
    {
     "name": "stdout",
     "output_type": "stream",
     "text": [
      "Counter({20: 32, 21: 24, 22: 23, 24: 21, 23: 21, 26: 19, 25: 16, 27: 16, 33: 16, 28: 15, 30: 14, 51: 12, 29: 12, 47: 12, 35: 11, 43: 10, 58: 10, 38: 9, 32: 9, 53: 9, 34: 8, 36: 8, 41: 8, 57: 8, 39: 8, 37: 8, 42: 8, 75: 8, 44: 8, 31: 8, 62: 7, 64: 7, 46: 7, 71: 7, 40: 7, 54: 6, 59: 6, 48: 6, 107: 6, 121: 6, 66: 6, 56: 6, 65: 6, 55: 6, 63: 6, 49: 6, 98: 5, 68: 5, 93: 5, 45: 5, 50: 5, 81: 5, 102: 5, 135: 5, 181: 4, 104: 4, 183: 4, 106: 4, 154: 4, 80: 4, 168: 4, 76: 4, 67: 4, 133: 4, 74: 4, 115: 4, 105: 4, 124: 4, 150: 4, 147: 4, 127: 4, 89: 4, 149: 4, 109: 4, 73: 4, 108: 4, 184: 3, 79: 3, 52: 3, 187: 3, 232: 3, 137: 3, 155: 3, 216: 3, 143: 3, 86: 3, 206: 3, 120: 3, 112: 3, 118: 3, 110: 3, 159: 3, 83: 3, 185: 3, 245: 3, 142: 3, 70: 3, 162: 3, 204: 3, 101: 3, 236: 3, 217: 3, 60: 3, 100: 3, 166: 3, 148: 3, 175: 2, 211: 2, 140: 2, 277: 2, 128: 2, 151: 2, 221: 2, 208: 2, 131: 2, 82: 2, 72: 2, 288: 2, 388: 2, 278: 2, 136: 2, 111: 2, 92: 2, 61: 2, 69: 2, 273: 2, 251: 2, 305: 2, 96: 2, 132: 2, 146: 2, 141: 2, 161: 2, 122: 2, 77: 2, 97: 2, 160: 2, 138: 2, 95: 2, 196: 2, 294: 2, 87: 2, 174: 2, 283: 2, 233: 2, 311: 2, 274: 2, 226: 2, 145: 2, 263: 2, 139: 2, 156: 2, 189: 2, 231: 2, 129: 2, 225: 2, 163: 2, 197: 2, 84: 2, 114: 2, 357: 2, 90: 2, 103: 2, 171: 2, 224: 2, 269: 2, 272: 1, 403: 1, 636: 1, 179: 1, 78: 1, 215: 1, 382: 1, 200: 1, 300: 1, 400: 1, 234: 1, 182: 1, 353: 1, 316: 1, 307: 1, 173: 1, 177: 1, 435: 1, 386: 1, 230: 1, 126: 1, 387: 1, 480: 1, 94: 1, 238: 1, 195: 1, 207: 1, 123: 1, 328: 1, 323: 1, 518: 1, 434: 1, 258: 1, 296: 1, 192: 1, 280: 1, 275: 1, 484: 1, 222: 1, 397: 1, 223: 1, 262: 1, 125: 1, 284: 1, 333: 1, 130: 1, 254: 1, 201: 1, 237: 1, 190: 1, 193: 1, 199: 1, 375: 1, 281: 1, 304: 1, 271: 1, 448: 1, 172: 1, 319: 1, 153: 1, 737: 1, 342: 1, 203: 1, 493: 1, 365: 1, 414: 1, 379: 1, 540: 1, 327: 1, 113: 1, 202: 1, 213: 1, 279: 1, 242: 1, 194: 1, 306: 1, 260: 1, 218: 1, 490: 1, 334: 1, 188: 1, 360: 1, 228: 1, 318: 1, 297: 1, 685: 1, 191: 1, 158: 1, 399: 1, 157: 1, 167: 1, 85: 1, 322: 1, 293: 1, 117: 1, 249: 1, 358: 1, 239: 1, 332: 1, 267: 1, 405: 1, 209: 1, 165: 1, 134: 1, 368: 1, 259: 1, 268: 1, 240: 1, 326: 1, 119: 1, 362: 1, 317: 1, 241: 1})\n"
     ]
    }
   ],
   "source": [
    "dictrat=Counter(ratings_df.groupby(['user_id']).count()['item_id'])\n",
    "#plt.bar(dictrat.keys(),dictrat.values())\n",
    "print(dictrat)"
   ]
  },
  {
   "cell_type": "code",
   "execution_count": 79,
   "metadata": {},
   "outputs": [
    {
     "ename": "AttributeError",
     "evalue": "'Counter' object has no attribute 'nlargest'",
     "output_type": "error",
     "traceback": [
      "\u001b[1;31m---------------------------------------------------------------------------\u001b[0m",
      "\u001b[1;31mAttributeError\u001b[0m                            Traceback (most recent call last)",
      "Cell \u001b[1;32mIn[79], line 1\u001b[0m\n\u001b[1;32m----> 1\u001b[0m ft\u001b[39m=\u001b[39mdictrat\u001b[39m.\u001b[39;49mnlargest(\u001b[39m10\u001b[39m)  \n\u001b[0;32m      2\u001b[0m \u001b[39mtype\u001b[39m(ft)\n",
      "\u001b[1;31mAttributeError\u001b[0m: 'Counter' object has no attribute 'nlargest'"
     ]
    }
   ],
   "source": [
    "ft=dictrat.nlargest(10)  \n",
    "type(ft)"
   ]
  },
  {
   "cell_type": "code",
   "execution_count": 63,
   "metadata": {},
   "outputs": [
    {
     "data": {
      "text/plain": [
       "user_id\n",
       "405    737\n",
       "655    685\n",
       "13     636\n",
       "450    540\n",
       "276    518\n",
       "416    493\n",
       "537    490\n",
       "303    484\n",
       "234    480\n",
       "393    448\n",
       "Name: item_id, dtype: int64"
      ]
     },
     "execution_count": 63,
     "metadata": {},
     "output_type": "execute_result"
    }
   ],
   "source": [
    "ft"
   ]
  },
  {
   "cell_type": "code",
   "execution_count": 69,
   "metadata": {},
   "outputs": [
    {
     "data": {
      "text/plain": [
       "<BarContainer object of 10 artists>"
      ]
     },
     "execution_count": 69,
     "metadata": {},
     "output_type": "execute_result"
    },
    {
     "data": {
      "image/png": "[encoded data removed]",
      "text/plain": [
       "<Figure size 640x480 with 1 Axes>"
      ]
     },
     "metadata": {},
     "output_type": "display_data"
    }
   ],
   "source": [
    "interac=pd.DataFrame({'user_id':ft.index,'count':ft.values})\n",
    "plt.title(\"User Interaction Graph\")\n",
    "plt.ylabel(\"No.of movies rated\")\n",
    "plt.xlabel(\"UserID\")\n",
    "plt.bar(interac['user_id'],interac['count'])"
   ]
  },
  {
   "cell_type": "markdown",
   "metadata": {},
   "source": [
    "Train-Test split"
   ]
  },
  {
   "cell_type": "code",
   "execution_count": 10,
   "metadata": {},
   "outputs": [],
   "source": [
    "train_df, valid_df = train_test_split(ratings_df, test_size=0.2)\n",
    "\n",
    "#resetting indices to avoid indexing errors in the future\n",
    "train_df = train_df.reset_index()[['user_id', 'item_id', 'rating']]\n",
    "valid_df = valid_df.reset_index()[['user_id', 'item_id', 'rating']]"
   ]
  },
  {
   "cell_type": "markdown",
   "metadata": {},
   "source": [
    "Training"
   ]
  },
  {
   "cell_type": "code",
   "execution_count": 11,
   "metadata": {},
   "outputs": [],
   "source": [
    "def encode_column(column):\n",
    "    \"\"\" Encodes a pandas column with continous IDs\"\"\"\n",
    "    keys = column.unique()\n",
    "    key_to_id = {key:idx for idx,key in enumerate(keys)}\n",
    "    return key_to_id, np.array([key_to_id[x] for x in column]), len(keys)"
   ]
  },
  {
   "cell_type": "code",
   "execution_count": 12,
   "metadata": {},
   "outputs": [],
   "source": [
    "def encode_df(ratings_df):\n",
    "    \"\"\"Encodes rating data with continuous user and movie ids\"\"\"\n",
    "    \n",
    "    item_ids, ratings_df['item_id'], num_items = encode_column(ratings_df['item_id'])\n",
    "    user_ids, ratings_df['user_id'], num_users = encode_column(ratings_df['user_id'])\n",
    "    return ratings_df, num_users, num_items, user_ids, item_ids"
   ]
  },
  {
   "cell_type": "code",
   "execution_count": 13,
   "metadata": {},
   "outputs": [
    {
     "name": "stdout",
     "output_type": "stream",
     "text": [
      "Number of users : 943\n",
      "Number of Movies : 1653\n"
     ]
    },
    {
     "data": {
      "text/html": [
       "<div>\n",
       "<style scoped>\n",
       "    .dataframe tbody tr th:only-of-type {\n",
       "        vertical-align: middle;\n",
       "    }\n",
       "\n",
       "    .dataframe tbody tr th {\n",
       "        vertical-align: top;\n",
       "    }\n",
       "\n",
       "    .dataframe thead th {\n",
       "        text-align: right;\n",
       "    }\n",
       "</style>\n",
       "<table border=\"1\" class=\"dataframe\">\n",
       "  <thead>\n",
       "    <tr style=\"text-align: right;\">\n",
       "      <th></th>\n",
       "      <th>user_id</th>\n",
       "      <th>item_id</th>\n",
       "      <th>rating</th>\n",
       "    </tr>\n",
       "  </thead>\n",
       "  <tbody>\n",
       "    <tr>\n",
       "      <th>0</th>\n",
       "      <td>0</td>\n",
       "      <td>0</td>\n",
       "      <td>4</td>\n",
       "    </tr>\n",
       "    <tr>\n",
       "      <th>1</th>\n",
       "      <td>1</td>\n",
       "      <td>1</td>\n",
       "      <td>5</td>\n",
       "    </tr>\n",
       "    <tr>\n",
       "      <th>2</th>\n",
       "      <td>2</td>\n",
       "      <td>2</td>\n",
       "      <td>4</td>\n",
       "    </tr>\n",
       "    <tr>\n",
       "      <th>3</th>\n",
       "      <td>3</td>\n",
       "      <td>3</td>\n",
       "      <td>5</td>\n",
       "    </tr>\n",
       "    <tr>\n",
       "      <th>4</th>\n",
       "      <td>4</td>\n",
       "      <td>4</td>\n",
       "      <td>3</td>\n",
       "    </tr>\n",
       "  </tbody>\n",
       "</table>\n",
       "</div>"
      ],
      "text/plain": [
       "   user_id  item_id  rating\n",
       "0        0        0       4\n",
       "1        1        1       5\n",
       "2        2        2       4\n",
       "3        3        3       5\n",
       "4        4        4       3"
      ]
     },
     "execution_count": 13,
     "metadata": {},
     "output_type": "execute_result"
    }
   ],
   "source": [
    "ratings_df, num_users, num_items, user_ids, item_ids = encode_df(train_df)\n",
    "print(\"Number of users :\", num_users)\n",
    "print(\"Number of Movies :\", num_items)\n",
    "ratings_df.head()"
   ]
  },
  {
   "cell_type": "markdown",
   "metadata": {},
   "source": [
    "Initializing user and item embeddings"
   ]
  },
  {
   "cell_type": "code",
   "execution_count": 38,
   "metadata": {},
   "outputs": [],
   "source": [
    "def create_embeddings(n, K): #Function to add embeddings\n",
    "    \"\"\"\n",
    "    Creates a random numpy matrix of shape n, K with uniform values in (0, 6/K)\n",
    "    n: number of items/users\n",
    "    K: number of factors in the embedding \n",
    "    \"\"\"\n",
    "    return 6*np.random.random((n, K)) / K"
   ]
  },
  {
   "cell_type": "code",
   "execution_count": 39,
   "metadata": {},
   "outputs": [
    {
     "data": {
      "text/plain": [
       "(943, 3)"
      ]
     },
     "execution_count": 39,
     "metadata": {},
     "output_type": "execute_result"
    }
   ],
   "source": [
    "np.random.random((num_users,3)).shape"
   ]
  },
  {
   "cell_type": "code",
   "execution_count": 40,
   "metadata": {},
   "outputs": [],
   "source": [
    "def create_sparse_matrix(df, rows, cols, column_name=\"rating\"): #Sparse matrix\n",
    "    \"\"\" Returns a sparse utility matrix\"\"\" \n",
    "    return sparse.csc_matrix((df[column_name].values,(df['user_id'].values, df['item_id'].values)),shape=(rows, cols))"
   ]
  },
  {
   "cell_type": "markdown",
   "metadata": {},
   "source": [
    "Creating Sparse Matrix"
   ]
  },
  {
   "cell_type": "code",
   "execution_count": 41,
   "metadata": {},
   "outputs": [],
   "source": [
    "ratings_df, num_users, num_items, user_ids, item_ids = encode_df(train_df)\n",
    "Y = create_sparse_matrix(ratings_df, num_users, num_items)"
   ]
  },
  {
   "cell_type": "code",
   "execution_count": 42,
   "metadata": {},
   "outputs": [
    {
     "data": {
      "text/plain": [
       "matrix([[4, 0, 0, ..., 0, 0, 0],\n",
       "        [0, 5, 0, ..., 0, 0, 0],\n",
       "        [0, 0, 4, ..., 0, 4, 0],\n",
       "        ...,\n",
       "        [0, 0, 0, ..., 0, 0, 0],\n",
       "        [2, 0, 0, ..., 0, 0, 0],\n",
       "        [0, 0, 0, ..., 0, 0, 0]], dtype=int64)"
      ]
     },
     "execution_count": 42,
     "metadata": {},
     "output_type": "execute_result"
    }
   ],
   "source": [
    "# to view matrix\n",
    "Y.todense()"
   ]
  },
  {
   "cell_type": "code",
   "execution_count": 43,
   "metadata": {},
   "outputs": [
    {
     "data": {
      "text/plain": [
       "(943, 1653)"
      ]
     },
     "execution_count": 43,
     "metadata": {},
     "output_type": "execute_result"
    }
   ],
   "source": [
    "sparse_MAT=Y.todense()\n",
    "sparse_MAT.shape"
   ]
  },
  {
   "cell_type": "markdown",
   "metadata": {},
   "source": [
    "Making predictions"
   ]
  },
  {
   "cell_type": "code",
   "execution_count": 44,
   "metadata": {},
   "outputs": [],
   "source": [
    "def predict(df, emb_user, emb_item):\n",
    "    \"\"\" This function computes df[\"prediction\"] without doing (U*V^T).\n",
    "    \n",
    "    Computes df[\"prediction\"] by using elementwise multiplication of the corresponding embeddings and then \n",
    "    sum to get the prediction u_i*v_j. This avoids creating the dense matrix U*V^T.\n",
    "    \"\"\"\n",
    "    df['prediction'] = np.sum(np.multiply(emb_item[df['item_id']],emb_user[df['user_id']]), axis=1)\n",
    "    return df"
   ]
  },
  {
   "cell_type": "code",
   "execution_count": 45,
   "metadata": {},
   "outputs": [],
   "source": [
    "lmbda = 0.0002"
   ]
  },
  {
   "cell_type": "code",
   "execution_count": 46,
   "metadata": {},
   "outputs": [],
   "source": [
    "def cost(df, emb_user, emb_item):\n",
    "    \"\"\" Computes mean square error\"\"\"\n",
    "    Y = create_sparse_matrix(df, emb_user.shape[0], emb_item.shape[0])\n",
    "    predicted = create_sparse_matrix(predict(df, emb_user, emb_item), emb_user.shape[0], emb_item.shape[0], 'prediction')\n",
    "    return np.sum((Y-predicted).power(2))/df.shape[0] "
   ]
  },
  {
   "cell_type": "markdown",
   "metadata": {},
   "source": [
    "Gradient Descent"
   ]
  },
  {
   "cell_type": "code",
   "execution_count": 47,
   "metadata": {},
   "outputs": [],
   "source": [
    "def gradient(df, emb_user, emb_item):\n",
    "    \"\"\" Computes the gradient for user and movie embeddings\"\"\"\n",
    "    Y = create_sparse_matrix(df, emb_user.shape[0], emb_item.shape[0])\n",
    "    predicted = create_sparse_matrix(predict(df, emb_user, emb_item), emb_user.shape[0], emb_item.shape[0], 'prediction')\n",
    "    delta =(Y-predicted)\n",
    "    grad_user = (-2/df.shape[0])*(delta*emb_item) + 2*lmbda*emb_user\n",
    "    grad_item = (-2/df.shape[0])*(delta.T*emb_user) + 2*lmbda*emb_item\n",
    "    return grad_user, grad_item"
   ]
  },
  {
   "cell_type": "code",
   "execution_count": 48,
   "metadata": {},
   "outputs": [],
   "source": [
    "def gradient_descent(df, emb_user, emb_item, iterations=2000, learning_rate=0.01, df_val=None):\n",
    "    \"\"\" \n",
    "    Computes gradient descent with momentum (0.9) for given number of iterations.\n",
    "    emb_user: the trained user embedding\n",
    "    emb_item: the trained item embedding\n",
    "    \"\"\"\n",
    "    Y = create_sparse_matrix(df, emb_user.shape[0], emb_item.shape[0])\n",
    "    beta = 0.9\n",
    "    grad_user, grad_item = gradient(df, emb_user, emb_item)\n",
    "    v_user = grad_user\n",
    "    v_item = grad_item\n",
    "    for i in range(iterations):\n",
    "        grad_user, grad_item = gradient(df, emb_user, emb_item)\n",
    "        v_user = beta*v_user + (1-beta)*grad_user\n",
    "        v_item = beta*v_item + (1-beta)*grad_item\n",
    "        emb_user = emb_user - learning_rate*v_user\n",
    "        emb_item = emb_item - learning_rate*v_item\n",
    "        if(not (i+1)%50):\n",
    "            print(\"\\niteration\", i+1, \":\")\n",
    "            print(\"train mse:\",  cost(df, emb_user, emb_item))\n",
    "            if df_val is not None:\n",
    "                print(\"validation mse:\",  cost(df_val, emb_user, emb_item))\n",
    "    return emb_user, emb_item"
   ]
  },
  {
   "cell_type": "code",
   "execution_count": 49,
   "metadata": {},
   "outputs": [
    {
     "name": "stdout",
     "output_type": "stream",
     "text": [
      "\n",
      "iteration 50 :\n",
      "train mse: 2.044710666493558\n",
      "\n",
      "iteration 100 :\n",
      "train mse: 1.5398149433697315\n",
      "\n",
      "iteration 150 :\n",
      "train mse: 1.318586484927568\n",
      "\n",
      "iteration 200 :\n",
      "train mse: 1.1975508033977487\n",
      "\n",
      "iteration 250 :\n",
      "train mse: 1.1228542089363494\n",
      "\n",
      "iteration 300 :\n",
      "train mse: 1.073428004721921\n",
      "\n",
      "iteration 350 :\n",
      "train mse: 1.039268834229803\n",
      "\n",
      "iteration 400 :\n",
      "train mse: 1.0149741468284927\n",
      "\n",
      "iteration 450 :\n",
      "train mse: 0.9973565889082107\n",
      "\n",
      "iteration 500 :\n",
      "train mse: 0.984413999854973\n",
      "\n",
      "iteration 550 :\n",
      "train mse: 0.9748294658295996\n",
      "\n",
      "iteration 600 :\n",
      "train mse: 0.9677059588797651\n",
      "\n",
      "iteration 650 :\n",
      "train mse: 0.9624154285022476\n",
      "\n",
      "iteration 700 :\n",
      "train mse: 0.9585082445198474\n",
      "\n",
      "iteration 750 :\n",
      "train mse: 0.9556565002725321\n",
      "\n",
      "iteration 800 :\n",
      "train mse: 0.9536172820322701\n"
     ]
    }
   ],
   "source": [
    "emb_user = create_embeddings(num_users, 3)\n",
    "emb_item = create_embeddings(num_items, 3)\n",
    "emb_user, emb_item = gradient_descent(ratings_df, emb_user, emb_item, iterations=800, learning_rate=1)"
   ]
  },
  {
   "cell_type": "markdown",
   "metadata": {},
   "source": [
    "Making predictions on new data"
   ]
  },
  {
   "cell_type": "code",
   "execution_count": 50,
   "metadata": {},
   "outputs": [],
   "source": [
    "def encode_new_data(valid_df, user_ids, item_ids):\n",
    "    \"\"\" Encodes valid_df with the same encoding as train_df.\n",
    "    \"\"\"\n",
    "    df_val_chosen = valid_df['item_id'].isin(item_ids.keys()) & valid_df['user_id'].isin(user_ids.keys())\n",
    "    valid_df = valid_df[df_val_chosen]\n",
    "    valid_df['item_id'] =  np.array([item_ids[x] for x in valid_df['item_id']])\n",
    "    valid_df['user_id'] = np.array([user_ids[x] for x in valid_df['user_id']])\n",
    "    return valid_df"
   ]
  },
  {
   "cell_type": "code",
   "execution_count": 51,
   "metadata": {},
   "outputs": [
    {
     "name": "stdout",
     "output_type": "stream",
     "text": [
      "before encoding: (19961, 4)\n",
      "after encoding: (19961, 4)\n"
     ]
    }
   ],
   "source": [
    "print(\"before encoding:\", valid_df.shape)\n",
    "valid_df = encode_new_data(valid_df, user_ids, item_ids)\n",
    "print(\"after encoding:\", valid_df.shape)"
   ]
  },
  {
   "cell_type": "markdown",
   "metadata": {},
   "source": [
    "Mean Square Error"
   ]
  },
  {
   "cell_type": "code",
   "execution_count": 52,
   "metadata": {},
   "outputs": [
    {
     "name": "stdout",
     "output_type": "stream",
     "text": [
      "0.9536172820322701 2.091379679093008\n"
     ]
    }
   ],
   "source": [
    "train_mse = cost(train_df, emb_user, emb_item)\n",
    "val_mse = cost(valid_df, emb_user, emb_item)\n",
    "print(train_mse, val_mse)"
   ]
  },
  {
   "cell_type": "code",
   "execution_count": 55,
   "metadata": {},
   "outputs": [
    {
     "data": {
      "text/html": [
       "<div>\n",
       "<style scoped>\n",
       "    .dataframe tbody tr th:only-of-type {\n",
       "        vertical-align: middle;\n",
       "    }\n",
       "\n",
       "    .dataframe tbody tr th {\n",
       "        vertical-align: top;\n",
       "    }\n",
       "\n",
       "    .dataframe thead th {\n",
       "        text-align: right;\n",
       "    }\n",
       "</style>\n",
       "<table border=\"1\" class=\"dataframe\">\n",
       "  <thead>\n",
       "    <tr style=\"text-align: right;\">\n",
       "      <th></th>\n",
       "      <th>user_id</th>\n",
       "      <th>item_id</th>\n",
       "      <th>rating</th>\n",
       "      <th>prediction</th>\n",
       "    </tr>\n",
       "  </thead>\n",
       "  <tbody>\n",
       "    <tr>\n",
       "      <th>18939</th>\n",
       "      <td>790</td>\n",
       "      <td>739</td>\n",
       "      <td>4</td>\n",
       "      <td>3.813608</td>\n",
       "    </tr>\n",
       "    <tr>\n",
       "      <th>14890</th>\n",
       "      <td>790</td>\n",
       "      <td>153</td>\n",
       "      <td>3</td>\n",
       "      <td>3.785895</td>\n",
       "    </tr>\n",
       "    <tr>\n",
       "      <th>15730</th>\n",
       "      <td>790</td>\n",
       "      <td>864</td>\n",
       "      <td>4</td>\n",
       "      <td>3.608595</td>\n",
       "    </tr>\n",
       "    <tr>\n",
       "      <th>5499</th>\n",
       "      <td>790</td>\n",
       "      <td>157</td>\n",
       "      <td>2</td>\n",
       "      <td>3.599091</td>\n",
       "    </tr>\n",
       "    <tr>\n",
       "      <th>8509</th>\n",
       "      <td>790</td>\n",
       "      <td>215</td>\n",
       "      <td>2</td>\n",
       "      <td>3.579619</td>\n",
       "    </tr>\n",
       "  </tbody>\n",
       "</table>\n",
       "</div>"
      ],
      "text/plain": [
       "       user_id  item_id  rating  prediction\n",
       "18939      790      739       4    3.813608\n",
       "14890      790      153       3    3.785895\n",
       "15730      790      864       4    3.608595\n",
       "5499       790      157       2    3.599091\n",
       "8509       790      215       2    3.579619"
      ]
     },
     "execution_count": 55,
     "metadata": {},
     "output_type": "execute_result"
    }
   ],
   "source": [
    "valid_df[valid_df.user_id==790].sort_values(by='prediction',ascending=False).head(5)"
   ]
  },
  {
   "cell_type": "code",
   "execution_count": 54,
   "metadata": {},
   "outputs": [
    {
     "data": {
      "text/html": [
       "<div>\n",
       "<style scoped>\n",
       "    .dataframe tbody tr th:only-of-type {\n",
       "        vertical-align: middle;\n",
       "    }\n",
       "\n",
       "    .dataframe tbody tr th {\n",
       "        vertical-align: top;\n",
       "    }\n",
       "\n",
       "    .dataframe thead th {\n",
       "        text-align: right;\n",
       "    }\n",
       "</style>\n",
       "<table border=\"1\" class=\"dataframe\">\n",
       "  <thead>\n",
       "    <tr style=\"text-align: right;\">\n",
       "      <th></th>\n",
       "      <th>user_id</th>\n",
       "      <th>item_id</th>\n",
       "      <th>rating</th>\n",
       "      <th>prediction</th>\n",
       "    </tr>\n",
       "  </thead>\n",
       "  <tbody>\n",
       "    <tr>\n",
       "      <th>0</th>\n",
       "      <td>837</td>\n",
       "      <td>535</td>\n",
       "      <td>1</td>\n",
       "      <td>2.062217</td>\n",
       "    </tr>\n",
       "    <tr>\n",
       "      <th>1</th>\n",
       "      <td>495</td>\n",
       "      <td>168</td>\n",
       "      <td>5</td>\n",
       "      <td>2.837400</td>\n",
       "    </tr>\n",
       "    <tr>\n",
       "      <th>2</th>\n",
       "      <td>798</td>\n",
       "      <td>142</td>\n",
       "      <td>3</td>\n",
       "      <td>3.180147</td>\n",
       "    </tr>\n",
       "    <tr>\n",
       "      <th>3</th>\n",
       "      <td>303</td>\n",
       "      <td>418</td>\n",
       "      <td>4</td>\n",
       "      <td>4.040369</td>\n",
       "    </tr>\n",
       "    <tr>\n",
       "      <th>4</th>\n",
       "      <td>270</td>\n",
       "      <td>83</td>\n",
       "      <td>4</td>\n",
       "      <td>2.467163</td>\n",
       "    </tr>\n",
       "    <tr>\n",
       "      <th>...</th>\n",
       "      <td>...</td>\n",
       "      <td>...</td>\n",
       "      <td>...</td>\n",
       "      <td>...</td>\n",
       "    </tr>\n",
       "    <tr>\n",
       "      <th>19995</th>\n",
       "      <td>914</td>\n",
       "      <td>781</td>\n",
       "      <td>5</td>\n",
       "      <td>2.563494</td>\n",
       "    </tr>\n",
       "    <tr>\n",
       "      <th>19996</th>\n",
       "      <td>892</td>\n",
       "      <td>181</td>\n",
       "      <td>4</td>\n",
       "      <td>3.237913</td>\n",
       "    </tr>\n",
       "    <tr>\n",
       "      <th>19997</th>\n",
       "      <td>474</td>\n",
       "      <td>1286</td>\n",
       "      <td>2</td>\n",
       "      <td>2.368238</td>\n",
       "    </tr>\n",
       "    <tr>\n",
       "      <th>19998</th>\n",
       "      <td>23</td>\n",
       "      <td>603</td>\n",
       "      <td>4</td>\n",
       "      <td>2.732455</td>\n",
       "    </tr>\n",
       "    <tr>\n",
       "      <th>19999</th>\n",
       "      <td>326</td>\n",
       "      <td>780</td>\n",
       "      <td>2</td>\n",
       "      <td>2.566875</td>\n",
       "    </tr>\n",
       "  </tbody>\n",
       "</table>\n",
       "<p>19961 rows × 4 columns</p>\n",
       "</div>"
      ],
      "text/plain": [
       "       user_id  item_id  rating  prediction\n",
       "0          837      535       1    2.062217\n",
       "1          495      168       5    2.837400\n",
       "2          798      142       3    3.180147\n",
       "3          303      418       4    4.040369\n",
       "4          270       83       4    2.467163\n",
       "...        ...      ...     ...         ...\n",
       "19995      914      781       5    2.563494\n",
       "19996      892      181       4    3.237913\n",
       "19997      474     1286       2    2.368238\n",
       "19998       23      603       4    2.732455\n",
       "19999      326      780       2    2.566875\n",
       "\n",
       "[19961 rows x 4 columns]"
      ]
     },
     "execution_count": 54,
     "metadata": {},
     "output_type": "execute_result"
    }
   ],
   "source": [
    "valid_df"
   ]
  }
 ],
 "metadata": {
  "kernelspec": {
   "display_name": "TF_gpukernel",
   "language": "python",
   "name": "python3"
  },
  "language_info": {
   "codemirror_mode": {
    "name": "ipython",
    "version": 3
   },
   "file_extension": ".py",
   "mimetype": "text/x-python",
   "name": "python",
   "nbconvert_exporter": "python",
   "pygments_lexer": "ipython3",
   "version": "3.9.16"
  },
  "orig_nbformat": 4,
  "vscode": {
   "interpreter": {
    "hash": "a71ae7dbf06c6874b8a081151dab852d0fb96a248f34ed892c31a3709c9e0718"
   }
  }
 },
 "nbformat": 4,
 "nbformat_minor": 2
}
